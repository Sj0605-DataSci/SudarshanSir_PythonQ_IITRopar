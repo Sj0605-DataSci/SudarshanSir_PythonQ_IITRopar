{
  "nbformat": 4,
  "nbformat_minor": 0,
  "metadata": {
    "colab": {
      "provenance": []
    },
    "kernelspec": {
      "name": "python3",
      "display_name": "Python 3"
    },
    "language_info": {
      "name": "python"
    }
  },
  "cells": [
    {
      "cell_type": "markdown",
      "source": [
        "Answer 1"
      ],
      "metadata": {
        "id": "qPqmEJLAAYYR"
      }
    },
    {
      "cell_type": "code",
      "execution_count": null,
      "metadata": {
        "id": "2bSVgaMvAQ0Y"
      },
      "outputs": [],
      "source": [
        "print(\"Namasthey India\")"
      ]
    },
    {
      "cell_type": "markdown",
      "source": [
        "Answer 2"
      ],
      "metadata": {
        "id": "HD6KqvLpAkHV"
      }
    },
    {
      "cell_type": "code",
      "source": [
        "# Input\n",
        "n = int(input(\"Enter a number: \"))\n",
        "\n",
        "# Calculate square, cube, and 2^n\n",
        "square = n ** 2\n",
        "cube = n ** 3\n",
        "two_to_the_power_of_n = 2 ** n\n",
        "\n",
        "# Output\n",
        "print(f\"Square of {n} is: {square}\")\n",
        "print(f\"Cube of {n} is: {cube}\")\n",
        "print(f\"2^{n} is: {two_to_the_power_of_n}\")"
      ],
      "metadata": {
        "id": "fYPQ7hoOAVs8"
      },
      "execution_count": null,
      "outputs": []
    },
    {
      "cell_type": "markdown",
      "source": [
        "Answer 3"
      ],
      "metadata": {
        "id": "-fepsiW1A4E9"
      }
    },
    {
      "cell_type": "code",
      "source": [
        "print(\"*\")\n",
        "print(\"**\")\n",
        "print(\"***\")\n",
        "print(\"****\")"
      ],
      "metadata": {
        "id": "RTGOt_2_A6PO"
      },
      "execution_count": null,
      "outputs": []
    },
    {
      "cell_type": "markdown",
      "source": [
        "Answer 4"
      ],
      "metadata": {
        "id": "CbiLiwYjBDm_"
      }
    },
    {
      "cell_type": "code",
      "source": [
        "name = input(\"What's your name?\")\n",
        "age = input(\"How old are you?\")\n",
        "color = input(\"What's your favorite color?\")\n",
        "hobby = input(\"What's your favorite hobby?\")"
      ],
      "metadata": {
        "id": "n4Ai4KXxBE-_"
      },
      "execution_count": null,
      "outputs": []
    },
    {
      "cell_type": "markdown",
      "source": [
        "Answer 5"
      ],
      "metadata": {
        "id": "31fb5h2ABW4V"
      }
    },
    {
      "cell_type": "code",
      "source": [
        "number = int(input(\"Enter a number: \"))\n",
        "\n",
        "if number % 2 == 0:\n",
        "    print(f\"{number} is even.\")\n",
        "else:\n",
        "    print(f\"{number} is odd.\")"
      ],
      "metadata": {
        "id": "_tYXLKhbBYjS"
      },
      "execution_count": null,
      "outputs": []
    },
    {
      "cell_type": "markdown",
      "source": [
        "Answer 6"
      ],
      "metadata": {
        "id": "1MH4GjgQBkKa"
      }
    },
    {
      "cell_type": "code",
      "source": [
        "n = int(input(\"Enter a number: \"))\n",
        "\n",
        "print(f\"The first {n} natural numbers are:\")\n",
        "for i in range(1, n + 1):\n",
        "  print(i)"
      ],
      "metadata": {
        "id": "0hC0hlp_Bl2l"
      },
      "execution_count": null,
      "outputs": []
    },
    {
      "cell_type": "markdown",
      "source": [
        "Answer 7"
      ],
      "metadata": {
        "id": "i1qtXnXqB3yb"
      }
    },
    {
      "cell_type": "code",
      "source": [
        "# Input\n",
        "a = int(input(\"Enter the starting number (a): \"))\n",
        "d = int(input(\"Enter the common difference (d): \"))\n",
        "b = int(input(\"Enter the target number (b): \"))\n",
        "\n",
        "# Checking test conditions\n",
        "if d == 0:\n",
        "    print(\"Common difference cannot be 0.\")\n",
        "elif a > b and d > 0:\n",
        "    print(\"Starting number is greater than the target number, and the common difference is positive. No sequence to print.\")\n",
        "elif a < b and d < 0:\n",
        "    print(\"Starting number is less than the target number, and the common difference is negative. No sequence to print.\")\n",
        "\n",
        "# Printing the sequence\n",
        "else:\n",
        "    print(\"The sequence is:\")\n",
        "    while a <= b:\n",
        "        print(a, end=\" \")\n",
        "        a += d"
      ],
      "metadata": {
        "id": "d9wWQZY8B5ND"
      },
      "execution_count": null,
      "outputs": []
    },
    {
      "cell_type": "markdown",
      "source": [
        "Answer 8"
      ],
      "metadata": {
        "id": "XHq8yn9tCPDT"
      }
    },
    {
      "cell_type": "code",
      "source": [
        "\n",
        "n = int(input(\"Enter a number (n):\"))\n",
        "sum_of_numbers = 0\n",
        "for i in range(1, n + 1):\n",
        "    sum_of_numbers += i\n",
        "\n",
        "# Print the result\n",
        "print(f\"The sum of all numbers from 1 to {n} is: {sum_of_numbers}\")"
      ],
      "metadata": {
        "id": "P8InFmJDCQSq"
      },
      "execution_count": null,
      "outputs": []
    },
    {
      "cell_type": "markdown",
      "source": [
        "Answer 9"
      ],
      "metadata": {
        "id": "JCX8PP3DCgro"
      }
    },
    {
      "cell_type": "code",
      "source": [
        "n = int(input(\"Enter a number (n): \"))\n",
        "i = int(input(\"Enter the start of the range (i): \"))\n",
        "j = int(input(\"Enter the end of the range (j): \"))\n",
        "\n",
        "print(f\"Multiplication table for {n} from {i} to {j}:\")\n",
        "for x in range(i, j + 1):\n",
        "  product = n * x\n",
        "  print(f\"{n} * {x} = {product}\")"
      ],
      "metadata": {
        "id": "9Qb_F-W0CiK8"
      },
      "execution_count": null,
      "outputs": []
    },
    {
      "cell_type": "markdown",
      "source": [
        "Answer 10"
      ],
      "metadata": {
        "id": "cjTPGqKVDK19"
      }
    },
    {
      "cell_type": "code",
      "source": [
        "n = int(input(\"Enter a number: \"))\n",
        "\n",
        "if n <= 1:\n",
        "    is_prime = False\n",
        "else:\n",
        "    is_prime = True\n",
        "    for i in range(2, int(n**0.5) + 1):\n",
        "        if n % i == 0:\n",
        "            is_prime = False\n",
        "            break\n",
        "\n",
        "if is_prime:\n",
        "    print(f\"{n} is a prime number.\")\n",
        "else:\n",
        "    print(f\"{n} is not a prime number.\")"
      ],
      "metadata": {
        "id": "FWo1EkHFDMrc"
      },
      "execution_count": null,
      "outputs": []
    }
  ]
}