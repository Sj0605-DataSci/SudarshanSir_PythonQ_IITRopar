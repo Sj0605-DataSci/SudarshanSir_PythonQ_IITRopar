{
  "nbformat": 4,
  "nbformat_minor": 0,
  "metadata": {
    "colab": {
      "provenance": []
    },
    "kernelspec": {
      "name": "python3",
      "display_name": "Python 3"
    },
    "language_info": {
      "name": "python"
    }
  },
  "cells": [
    {
      "cell_type": "markdown",
      "source": [
        "Ans 11"
      ],
      "metadata": {
        "id": "Dj7kPQCE39zn"
      }
    },
    {
      "cell_type": "code",
      "execution_count": null,
      "metadata": {
        "id": "EHhdlBqC3z-g"
      },
      "outputs": [],
      "source": [
        "def is_prime(num):\n",
        "    if num <= 1:\n",
        "        return False\n",
        "    for i in range(2, num):\n",
        "        if num % i == 0:\n",
        "            return False\n",
        "    return True\n",
        "\n",
        "def print_primes_up_to_n(n):\n",
        "    print(\"Prime numbers up to\", n, \"are:\")\n",
        "    for i in range(2, n + 1):\n",
        "        if is_prime(i):\n",
        "            print(i, end=' ')"
      ]
    },
    {
      "cell_type": "markdown",
      "source": [
        "Ans 12"
      ],
      "metadata": {
        "id": "sQQoviXF4mFW"
      }
    },
    {
      "cell_type": "code",
      "source": [
        "# Input two strings\n",
        "string1 = input(\"Enter the first string: \")\n",
        "string2 = input(\"Enter the second string: \")\n",
        "\n",
        "# Concatenate the strings\n",
        "result = string1 + string2\n",
        "\n",
        "# Print the concatenated string\n",
        "print(\"Concatenated string:\", result)"
      ],
      "metadata": {
        "id": "6E9M29FQ4nRa"
      },
      "execution_count": null,
      "outputs": []
    },
    {
      "cell_type": "markdown",
      "source": [
        "Ans 13"
      ],
      "metadata": {
        "id": "SWWT3F9F4vE6"
      }
    },
    {
      "cell_type": "code",
      "source": [
        "# Input two strings of the same length\n",
        "string1 = input(\"Enter the first string: \")\n",
        "string2 = input(\"Enter the second string: \")\n",
        "\n",
        "# Check if the strings have the same length\n",
        "if len(string1) != len(string2):\n",
        "    print(\"Both strings should have the same length for interspersion.\")\n",
        "else:\n",
        "    # Initialize an empty result string\n",
        "    result = \"\"\n",
        "\n",
        "    # Iterate through both strings and intersperse them\n",
        "    for i in range(len(string1)):\n",
        "        result += string1[i] + string2[i]\n",
        "\n",
        "    # Print the interspersed string\n",
        "    print(\"Interspersed string:\", result)\n"
      ],
      "metadata": {
        "id": "WfZZiamc4w7n"
      },
      "execution_count": null,
      "outputs": []
    },
    {
      "cell_type": "markdown",
      "source": [
        "Ans 14"
      ],
      "metadata": {
        "id": "iCg9hvXj5BAz"
      }
    },
    {
      "cell_type": "code",
      "source": [
        "reversed_string = original_string[::-1]"
      ],
      "metadata": {
        "id": "qK5WM0Uq5CWZ"
      },
      "execution_count": null,
      "outputs": []
    },
    {
      "cell_type": "markdown",
      "source": [
        "Ans 15"
      ],
      "metadata": {
        "id": "To-rSR3H5L8f"
      }
    },
    {
      "cell_type": "code",
      "source": [
        "# Input a string\n",
        "input_string = input(\"Enter a string: \")\n",
        "\n",
        "# Remove spaces and convert to lowercase for case-insensitive comparison\n",
        "cleaned_string = input_string.replace(\" \", \"\").lower()\n",
        "\n",
        "# Check if the cleaned string is equal to its reverse\n",
        "if cleaned_string == cleaned_string[::-1]:\n",
        "    print(\"The string is a palindrome.\")\n",
        "else:\n",
        "    print(\"The string is not a palindrome.\")"
      ],
      "metadata": {
        "id": "ai6eiVmo5Nk8"
      },
      "execution_count": null,
      "outputs": []
    },
    {
      "cell_type": "markdown",
      "source": [
        "Ans 16"
      ],
      "metadata": {
        "id": "7u753EeK5Zqx"
      }
    },
    {
      "cell_type": "code",
      "source": [
        "# Input a string\n",
        "input_string = input(\"Enter a string: \")\n",
        "\n",
        "# Convert the input string to lowercase to make it case-insensitive\n",
        "input_string = input_string.lower()\n",
        "\n",
        "# Initialize counters for vowels and consonants\n",
        "vowel_count = 0\n",
        "consonant_count = 0\n",
        "\n",
        "# Define a set of vowels\n",
        "vowels = \"aeiou\"\n",
        "\n",
        "# Iterate through each character in the string\n",
        "for char in input_string:\n",
        "    if char.isalpha():  # Check if the character is an alphabet\n",
        "        if char in vowels:\n",
        "            vowel_count += 1\n",
        "        else:\n",
        "            consonant_count += 1\n",
        "\n",
        "# Print the counts\n",
        "print(\"Number of vowels:\", vowel_count)\n",
        "print(\"Number of consonants:\", consonant_count)"
      ],
      "metadata": {
        "id": "jR60_Ypx5bNQ"
      },
      "execution_count": null,
      "outputs": []
    },
    {
      "cell_type": "markdown",
      "source": [
        "Ans 17"
      ],
      "metadata": {
        "id": "kXsbGGPr58cR"
      }
    },
    {
      "cell_type": "code",
      "source": [
        "n = int(input(\"Enter a positive integer:\"))\n",
        "squares = [i**2 for i in range(1, n + 1)]\n",
        "squares"
      ],
      "metadata": {
        "id": "scYgOTUL59wX"
      },
      "execution_count": null,
      "outputs": []
    },
    {
      "cell_type": "markdown",
      "source": [
        "Ans 18"
      ],
      "metadata": {
        "id": "21O_dkNs6aqK"
      }
    },
    {
      "cell_type": "code",
      "source": [
        "# Input the number of Fibonacci numbers to generate (n)\n",
        "try:\n",
        "    n = int(input(\"Enter the number of Fibonacci numbers to generate (n): \"))\n",
        "    if n <= 0:\n",
        "        print(\"Please enter a positive integer.\")\n",
        "    else:\n",
        "        # Initialize the first two Fibonacci numbers\n",
        "        fib_sequence = [0, 1]\n",
        "\n",
        "        # Generate the Fibonacci sequence\n",
        "        while len(fib_sequence) < n:\n",
        "            next_fib = fib_sequence[-1] + fib_sequence[-2]\n",
        "            fib_sequence.append(next_fib)\n",
        "\n",
        "        # Print the first n Fibonacci numbers\n",
        "        print(f\"The first {n} Fibonacci numbers are:\")\n",
        "        for i in range(n):\n",
        "            print(fib_sequence[i], end=\" \")\n",
        "except ValueError:\n",
        "    print(\"Invalid input. Please enter a positive integer.\")"
      ],
      "metadata": {
        "id": "slH2mZaC6b7X"
      },
      "execution_count": null,
      "outputs": []
    },
    {
      "cell_type": "markdown",
      "source": [
        "Ans 19"
      ],
      "metadata": {
        "id": "pHIXVnKj6tPE"
      }
    },
    {
      "cell_type": "code",
      "source": [
        "# Input the number of rows for the triangle\n",
        "try:\n",
        "    n = int(input(\"Enter the number of rows for the triangle: \"))\n",
        "\n",
        "    # Check if the input is a positive integer\n",
        "    if n <= 0:\n",
        "        print(\"Please enter a positive integer.\")\n",
        "    else:\n",
        "        # Print the right-angled triangle pattern\n",
        "        for i in range(1, n + 1):\n",
        "            print(\"*\" * i)\n",
        "except ValueError:\n",
        "    print(\"Invalid input. Please enter a positive integer.\")"
      ],
      "metadata": {
        "id": "i7ABXUIE6u2X"
      },
      "execution_count": null,
      "outputs": []
    },
    {
      "cell_type": "markdown",
      "source": [
        "Ans 20"
      ],
      "metadata": {
        "id": "Gf__xv1Q64Vb"
      }
    },
    {
      "cell_type": "code",
      "source": [
        "# Input the number of lines and curvature from the user\n",
        "try:\n",
        "    num_lines = int(input(\"Enter the number of lines: \"))\n",
        "    curvature = int(input(\"Enter the curvature (positive or negative integer): \"))\n",
        "\n",
        "    # Check if the input values are valid\n",
        "    if num_lines <= 0:\n",
        "        print(\"Please enter a positive integer for the number of lines.\")\n",
        "    else:\n",
        "        # Print the bow-like figure\n",
        "        for i in range(1, num_lines + 1):\n",
        "            spaces = abs(curvature * (i - num_lines // 2))\n",
        "            stars = num_lines - 2 * spaces\n",
        "            print(\" \" * spaces + \"*\" * stars)\n",
        "except ValueError:\n",
        "    print(\"Invalid input. Please enter positive integers for the number of lines and curvature.\")"
      ],
      "metadata": {
        "id": "HDYlNaI0650a"
      },
      "execution_count": null,
      "outputs": []
    },
    {
      "cell_type": "markdown",
      "source": [
        "Ans 21"
      ],
      "metadata": {
        "id": "zxJxj9Vv9l_X"
      }
    },
    {
      "cell_type": "code",
      "source": [
        "# Function to calculate factorial\n",
        "def factorial(n):\n",
        "    if n == 0:\n",
        "        return 1\n",
        "    else:\n",
        "        return n * factorial(n - 1)\n",
        "\n",
        "try:\n",
        "    # Input from the user\n",
        "    num = int(input(\"Enter a non-negative integer: \"))\n",
        "\n",
        "    if num < 0:\n",
        "        print(\"Factorial is not defined for negative numbers.\")\n",
        "    else:\n",
        "        result = factorial(num)\n",
        "        print(f\"The factorial of {num} is {result}\")\n",
        "except ValueError:\n",
        "    print(\"Invalid input. Please enter a valid non-negative integer.\")"
      ],
      "metadata": {
        "id": "qaBMub2i9niZ"
      },
      "execution_count": null,
      "outputs": []
    },
    {
      "cell_type": "markdown",
      "source": [
        "Ans 22"
      ],
      "metadata": {
        "id": "sDi6A294-RQd"
      }
    },
    {
      "cell_type": "code",
      "source": [
        "# Input from the user\n",
        "num = float(input(\"Enter a number: \"))\n",
        "\n",
        "# Check if the number is positive, negative, or zero\n",
        "if num > 0:\n",
        "    print(\"The number is positive.\")\n",
        "elif num < 0:\n",
        "    print(\"The number is negative.\")\n",
        "else:\n",
        "    print(\"The number is zero.\")"
      ],
      "metadata": {
        "id": "VGaid35t-S2s"
      },
      "execution_count": null,
      "outputs": []
    },
    {
      "cell_type": "markdown",
      "source": [
        "Ans 23"
      ],
      "metadata": {
        "id": "KrLj9gQT_cws"
      }
    },
    {
      "cell_type": "code",
      "source": [
        "# Input from the user\n",
        "principal = float(input(\"Enter the principal amount: \"))\n",
        "rate = float(input(\"Enter the annual interest rate (as a decimal): \"))\n",
        "time = float(input(\"Enter the time (in years): \"))\n",
        "\n",
        "# Calculate simple interest\n",
        "simple_interest = principal * rate * time\n",
        "\n",
        "# Print the calculated simple interest\n",
        "print(f\"Simple Interest: {simple_interest}\")"
      ],
      "metadata": {
        "id": "CvJ26c7v_eSv"
      },
      "execution_count": null,
      "outputs": []
    },
    {
      "cell_type": "markdown",
      "source": [
        "Ans 24"
      ],
      "metadata": {
        "id": "j_rxtxxvBTiA"
      }
    },
    {
      "cell_type": "code",
      "source": [
        "# Function to convert Celsius to Fahrenheit\n",
        "def celsius_to_fahrenheit(celsius):\n",
        "    return (celsius * 9/5) + 32\n",
        "\n",
        "# Function to convert Fahrenheit to Celsius\n",
        "def fahrenheit_to_celsius(fahrenheit):\n",
        "    return (fahrenheit - 32) * 5/9\n",
        "\n",
        "# Input from the user\n",
        "choice = input(\"Choose conversion:\\n1. Celsius to Fahrenheit\\n2. Fahrenheit to Celsius\\nEnter 1 or 2: \")\n",
        "\n",
        "# Check user's choice and perform the conversion\n",
        "if choice == '1':\n",
        "    celsius = float(input(\"Enter temperature in Celsius: \"))\n",
        "    fahrenheit = celsius_to_fahrenheit(celsius)\n",
        "    print(f\"{celsius} Celsius is equal to {fahrenheit:.2f} Fahrenheit\")\n",
        "elif choice == '2':\n",
        "    fahrenheit = float(input(\"Enter temperature in Fahrenheit: \"))\n",
        "    celsius = fahrenheit_to_celsius(fahrenheit)\n",
        "    print(f\"{fahrenheit} Fahrenheit is equal to {celsius:.2f} Celsius\")\n",
        "else:\n",
        "    print(\"Invalid choice. Please enter 1 or 2 for the conversion.\")"
      ],
      "metadata": {
        "id": "1E52Xj78BUqz"
      },
      "execution_count": null,
      "outputs": []
    },
    {
      "cell_type": "markdown",
      "source": [
        "Ans 25"
      ],
      "metadata": {
        "id": "CGxyyqLdBcpx"
      }
    },
    {
      "cell_type": "code",
      "source": [
        "# Input from the user\n",
        "year = int(input(\"Enter a year: \"))\n",
        "\n",
        "# Check if it's a leap year\n",
        "if (year % 4 == 0 and year % 100 != 0) or (year % 400 == 0):\n",
        "    print(f\"{year} is a leap year.\")\n",
        "else:\n",
        "    print(f\"{year} is not a leap year.\")"
      ],
      "metadata": {
        "id": "mGSiPVyhBdyE"
      },
      "execution_count": null,
      "outputs": []
    },
    {
      "cell_type": "markdown",
      "source": [
        "Ans 26"
      ],
      "metadata": {
        "id": "DzHNObkhCcn2"
      }
    },
    {
      "cell_type": "code",
      "source": [
        "# Input from the user for 'a' and 'b'\n",
        "a = int(input(\"Enter the first number (a): \"))\n",
        "b = int(input(\"Enter the second number (b): \"))\n",
        "\n",
        "# Input from the user for the number to be checked\n",
        "number = int(input(\"Enter a number to check divisibility: \"))\n",
        "\n",
        "# Check if the number is divisible by both 'a' and 'b'\n",
        "if number % a == 0 and number % b == 0:\n",
        "    print(f\"{number} is divisible by both {a} and {b}.\")\n",
        "else:\n",
        "    print(f\"{number} is not divisible by both {a} and {b}.\")"
      ],
      "metadata": {
        "id": "2mB-hNMJCdxN"
      },
      "execution_count": null,
      "outputs": []
    },
    {
      "cell_type": "markdown",
      "source": [
        "Ans 27"
      ],
      "metadata": {
        "id": "fCQW6UHECoRd"
      }
    },
    {
      "cell_type": "code",
      "source": [
        "# Input from the user for age\n",
        "age = int(input(\"Enter your age: \"))\n",
        "\n",
        "# Check the age and print the appropriate message\n",
        "if age < 18:\n",
        "    print(\"You are a minor.\")\n",
        "elif age >= 18 and age <= 65:\n",
        "    print(\"You are an adult.\")\n",
        "else:\n",
        "    print(\"You are a senior citizen.\")"
      ],
      "metadata": {
        "id": "seIZmoGpCqAU"
      },
      "execution_count": null,
      "outputs": []
    },
    {
      "cell_type": "markdown",
      "source": [
        "Ans 28"
      ],
      "metadata": {
        "id": "rKNQbn9yCzxp"
      }
    },
    {
      "cell_type": "code",
      "source": [
        "# Input from the user for marks of five subjects\n",
        "subject1 = float(input(\"Enter marks for subject 1: \"))\n",
        "subject2 = float(input(\"Enter marks for subject 2: \"))\n",
        "subject3 = float(input(\"Enter marks for subject 3: \"))\n",
        "subject4 = float(input(\"Enter marks for subject 4: \"))\n",
        "subject5 = float(input(\"Enter marks for subject 5: \"))\n",
        "\n",
        "# Calculate the average marks\n",
        "average_marks = (subject1 + subject2 + subject3 + subject4 + subject5) / 5\n",
        "\n",
        "# Determine the grade based on the average marks\n",
        "if average_marks >= 90:\n",
        "    grade = 'A'\n",
        "elif average_marks >= 80:\n",
        "    grade = 'B'\n",
        "elif average_marks >= 70:\n",
        "    grade = 'C'\n",
        "elif average_marks >= 60:\n",
        "    grade = 'D'\n",
        "else:\n",
        "    grade = 'F'\n",
        "\n",
        "# Print the calculated grade\n",
        "print(f\"Average Marks: {average_marks:.2f}\")\n",
        "print(f\"Grade: {grade}\")"
      ],
      "metadata": {
        "id": "MbFDYgppC1CN"
      },
      "execution_count": null,
      "outputs": []
    },
    {
      "cell_type": "markdown",
      "source": [
        "Ans 29"
      ],
      "metadata": {
        "id": "Sj7AzzCkC9Pm"
      }
    },
    {
      "cell_type": "code",
      "source": [
        "# Input from the user for a decimal number\n",
        "decimal_number = int(input(\"Enter a decimal number: \"))\n",
        "\n",
        "# Initialize an empty string to store the binary representation\n",
        "binary_representation = \"\"\n",
        "\n",
        "# Handle the case of 0 separately\n",
        "if decimal_number == 0:\n",
        "    binary_representation = \"0\"\n",
        "else:\n",
        "    # Convert decimal to binary\n",
        "    while decimal_number > 0:\n",
        "        remainder = decimal_number % 2\n",
        "        binary_representation = str(remainder) + binary_representation\n",
        "        decimal_number = decimal_number // 2\n",
        "\n",
        "# Print the binary representation\n",
        "print(f\"Binary Representation: {binary_representation}\")"
      ],
      "metadata": {
        "id": "k5igDSpMDAGL"
      },
      "execution_count": null,
      "outputs": []
    },
    {
      "cell_type": "markdown",
      "source": [
        "Ans 30"
      ],
      "metadata": {
        "id": "UR6EW3S6DMtk"
      }
    },
    {
      "cell_type": "code",
      "source": [
        "def generate_k_digit_numbers(k):\n",
        "    # Create two k-digit numbers with maximum difference\n",
        "    num1 = int('9' * k)  # Largest k-digit number\n",
        "    num2 = int('1' + '0' * (k - 1))  # Smallest k-digit number\n",
        "\n",
        "    return num1, num2\n",
        "\n",
        "# Input k from the user\n",
        "k = int(input(\"Enter the number of digits (k): \"))\n",
        "\n",
        "if k < 1:\n",
        "    print(\"Invalid input. Please enter a positive integer for k.\")\n",
        "else:\n",
        "    num1, num2 = generate_k_digit_numbers(k)\n",
        "    print(f\"The two {k}-digit numbers with maximum steps to find GCD are:\")\n",
        "    print(f\"Number 1: {num1}\")\n",
        "    print(f\"Number 2: {num2}\")"
      ],
      "metadata": {
        "id": "4K5RzGQRDOHB"
      },
      "execution_count": null,
      "outputs": []
    },
    {
      "cell_type": "markdown",
      "source": [
        "Ans 31"
      ],
      "metadata": {
        "id": "z5dPomRNDl6U"
      }
    },
    {
      "cell_type": "code",
      "source": [
        "# Input from the user for the value of n\n",
        "n = int(input(\"Enter the value of n: \"))\n",
        "\n",
        "# Initialize an empty list to store the first n natural numbers\n",
        "L = []\n",
        "\n",
        "# Populate the list with the first n natural numbers\n",
        "for i in range(1, n + 1):\n",
        "    L.append(i)\n",
        "\n",
        "# Print the list\n",
        "print(\"List of the first\", n, \"natural numbers:\", L)"
      ],
      "metadata": {
        "id": "CCIdMlq9Dm-U"
      },
      "execution_count": null,
      "outputs": []
    },
    {
      "cell_type": "markdown",
      "source": [
        "Ans 32"
      ],
      "metadata": {
        "id": "N5dCoZbrDvfM"
      }
    },
    {
      "cell_type": "code",
      "source": [
        "import random\n",
        "\n",
        "# Input from the user for the number of random numbers to generate\n",
        "n = int(input(\"Enter the number of random numbers to generate: \"))\n",
        "\n",
        "# Initialize an empty list to store the random numbers\n",
        "L = []\n",
        "\n",
        "# Populate the list with random numbers in the range 1 to 1000\n",
        "for _ in range(n):\n",
        "    random_number = random.randint(1, 1000)\n",
        "    L.append(random_number)\n",
        "\n",
        "# Print the list\n",
        "print(\"List of\", n, \"random numbers between 1 and 1000:\", L)"
      ],
      "metadata": {
        "id": "XdX7z8DmDwoe"
      },
      "execution_count": null,
      "outputs": []
    }
  ]
}